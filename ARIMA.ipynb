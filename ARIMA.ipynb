{
 "cells": [
  {
   "cell_type": "code",
   "execution_count": 1,
   "id": "2c1c7f0d",
   "metadata": {},
   "outputs": [],
   "source": [
    "import pandas as pd\n",
    "import pmdarima as pm\n",
    "import pickle"
   ]
  },
  {
   "cell_type": "code",
   "execution_count": 2,
   "id": "42505faf",
   "metadata": {},
   "outputs": [],
   "source": [
    "tcs, nestle, ultra = pd.read_csv('TCS.csv'), pd.read_csv('NESTLE.csv'), pd.read_csv('ULTRA.csv')"
   ]
  },
  {
   "cell_type": "code",
   "execution_count": 3,
   "id": "9863b21e",
   "metadata": {},
   "outputs": [],
   "source": [
    "tcs.drop(['Open', 'High', 'Low', 'Adj Close', 'Volume'], axis='columns', inplace=True)\n",
    "nestle.drop(['Open', 'High', 'Low', 'Adj Close', 'Volume'], axis='columns', inplace=True)\n",
    "ultra.drop(['Open', 'High', 'Low', 'Adj Close', 'Volume'], axis='columns', inplace=True)"
   ]
  },
  {
   "cell_type": "code",
   "execution_count": 4,
   "id": "0cb272f3",
   "metadata": {},
   "outputs": [],
   "source": [
    "tcs, nestle, ultra = tcs.dropna(), nestle.dropna(), ultra.dropna()"
   ]
  },
  {
   "cell_type": "code",
   "execution_count": 5,
   "id": "1020001d",
   "metadata": {},
   "outputs": [],
   "source": [
    "tcs['Date'] = pd.to_datetime(tcs['Date'], format = '%Y-%m-%d')\n",
    "nestle['Date'] = pd.to_datetime(nestle['Date'], format = '%Y-%m-%d')\n",
    "ultra['Date'] = pd.to_datetime(ultra['Date'], format = '%Y-%m-%d')\n",
    "tcs, nestle, ultra = tcs.set_index('Date'), nestle.set_index('Date'), ultra.set_index('Date')"
   ]
  },
  {
   "cell_type": "code",
   "execution_count": 6,
   "id": "f39d9aed",
   "metadata": {},
   "outputs": [],
   "source": [
    "adftest_tcs = pm.arima.utils.ndiffs(tcs['Close'], test = 'adf')\n",
    "kpsstest_tcs = pm.arima.utils.ndiffs(tcs['Close'], test = 'kpss')\n",
    "pptest_tcs = pm.arima.utils.ndiffs(tcs['Close'], test = 'pp')\n",
    "adftest_nestle = pm.arima.utils.ndiffs(nestle['Close'], test = 'adf')\n",
    "kpsstest_nestle = pm.arima.utils.ndiffs(nestle['Close'], test = 'kpss')\n",
    "pptest_nestle = pm.arima.utils.ndiffs(nestle['Close'], test = 'pp')\n",
    "adftest_ultra = pm.arima.utils.ndiffs(ultra['Close'], test = 'adf')\n",
    "kpsstest_ultra = pm.arima.utils.ndiffs(ultra['Close'], test = 'kpss')\n",
    "pptest_ultra = pm.arima.utils.ndiffs(ultra['Close'], test = 'pp')"
   ]
  },
  {
   "cell_type": "code",
   "execution_count": 7,
   "id": "2b62c23d",
   "metadata": {},
   "outputs": [
    {
     "name": "stdout",
     "output_type": "stream",
     "text": [
      "1 1 1\n",
      "1 1 1\n",
      "1 1 1\n"
     ]
    }
   ],
   "source": [
    "print(adftest_tcs, kpsstest_tcs, pptest_tcs)\n",
    "print(adftest_nestle, kpsstest_nestle, pptest_nestle)\n",
    "print(adftest_ultra, kpsstest_ultra, pptest_ultra)"
   ]
  },
  {
   "cell_type": "code",
   "execution_count": 8,
   "id": "89a33236",
   "metadata": {},
   "outputs": [],
   "source": [
    "tcs_arima = pm.auto_arima(tcs['Close'], d = 1, error_action = 'trace', method = 'nm', maxiter = 30)\n",
    "nestle_arima = pm.auto_arima(nestle['Close'], d = 1, error_action = 'trace', method = 'nm', maxiter = 30)\n",
    "ultra_arima = pm.auto_arima(ultra['Close'], d = 1, error_action = 'trace', method = 'nm', maxiter = 30)"
   ]
  },
  {
   "cell_type": "code",
   "execution_count": 9,
   "id": "efaab264",
   "metadata": {},
   "outputs": [
    {
     "data": {
      "text/html": [
       "<style>#sk-container-id-1 {color: black;background-color: white;}#sk-container-id-1 pre{padding: 0;}#sk-container-id-1 div.sk-toggleable {background-color: white;}#sk-container-id-1 label.sk-toggleable__label {cursor: pointer;display: block;width: 100%;margin-bottom: 0;padding: 0.3em;box-sizing: border-box;text-align: center;}#sk-container-id-1 label.sk-toggleable__label-arrow:before {content: \"▸\";float: left;margin-right: 0.25em;color: #696969;}#sk-container-id-1 label.sk-toggleable__label-arrow:hover:before {color: black;}#sk-container-id-1 div.sk-estimator:hover label.sk-toggleable__label-arrow:before {color: black;}#sk-container-id-1 div.sk-toggleable__content {max-height: 0;max-width: 0;overflow: hidden;text-align: left;background-color: #f0f8ff;}#sk-container-id-1 div.sk-toggleable__content pre {margin: 0.2em;color: black;border-radius: 0.25em;background-color: #f0f8ff;}#sk-container-id-1 input.sk-toggleable__control:checked~div.sk-toggleable__content {max-height: 200px;max-width: 100%;overflow: auto;}#sk-container-id-1 input.sk-toggleable__control:checked~label.sk-toggleable__label-arrow:before {content: \"▾\";}#sk-container-id-1 div.sk-estimator input.sk-toggleable__control:checked~label.sk-toggleable__label {background-color: #d4ebff;}#sk-container-id-1 div.sk-label input.sk-toggleable__control:checked~label.sk-toggleable__label {background-color: #d4ebff;}#sk-container-id-1 input.sk-hidden--visually {border: 0;clip: rect(1px 1px 1px 1px);clip: rect(1px, 1px, 1px, 1px);height: 1px;margin: -1px;overflow: hidden;padding: 0;position: absolute;width: 1px;}#sk-container-id-1 div.sk-estimator {font-family: monospace;background-color: #f0f8ff;border: 1px dotted black;border-radius: 0.25em;box-sizing: border-box;margin-bottom: 0.5em;}#sk-container-id-1 div.sk-estimator:hover {background-color: #d4ebff;}#sk-container-id-1 div.sk-parallel-item::after {content: \"\";width: 100%;border-bottom: 1px solid gray;flex-grow: 1;}#sk-container-id-1 div.sk-label:hover label.sk-toggleable__label {background-color: #d4ebff;}#sk-container-id-1 div.sk-serial::before {content: \"\";position: absolute;border-left: 1px solid gray;box-sizing: border-box;top: 0;bottom: 0;left: 50%;z-index: 0;}#sk-container-id-1 div.sk-serial {display: flex;flex-direction: column;align-items: center;background-color: white;padding-right: 0.2em;padding-left: 0.2em;position: relative;}#sk-container-id-1 div.sk-item {position: relative;z-index: 1;}#sk-container-id-1 div.sk-parallel {display: flex;align-items: stretch;justify-content: center;background-color: white;position: relative;}#sk-container-id-1 div.sk-item::before, #sk-container-id-1 div.sk-parallel-item::before {content: \"\";position: absolute;border-left: 1px solid gray;box-sizing: border-box;top: 0;bottom: 0;left: 50%;z-index: -1;}#sk-container-id-1 div.sk-parallel-item {display: flex;flex-direction: column;z-index: 1;position: relative;background-color: white;}#sk-container-id-1 div.sk-parallel-item:first-child::after {align-self: flex-end;width: 50%;}#sk-container-id-1 div.sk-parallel-item:last-child::after {align-self: flex-start;width: 50%;}#sk-container-id-1 div.sk-parallel-item:only-child::after {width: 0;}#sk-container-id-1 div.sk-dashed-wrapped {border: 1px dashed gray;margin: 0 0.4em 0.5em 0.4em;box-sizing: border-box;padding-bottom: 0.4em;background-color: white;}#sk-container-id-1 div.sk-label label {font-family: monospace;font-weight: bold;display: inline-block;line-height: 1.2em;}#sk-container-id-1 div.sk-label-container {text-align: center;}#sk-container-id-1 div.sk-container {/* jupyter's `normalize.less` sets `[hidden] { display: none; }` but bootstrap.min.css set `[hidden] { display: none !important; }` so we also need the `!important` here to be able to override the default hidden behavior on the sphinx rendered scikit-learn.org. See: https://github.com/scikit-learn/scikit-learn/issues/21755 */display: inline-block !important;position: relative;}#sk-container-id-1 div.sk-text-repr-fallback {display: none;}</style><div id=\"sk-container-id-1\" class=\"sk-top-container\"><div class=\"sk-text-repr-fallback\"><pre> ARIMA(0,1,0)(0,0,0)[0]          </pre><b>In a Jupyter environment, please rerun this cell to show the HTML representation or trust the notebook. <br />On GitHub, the HTML representation is unable to render, please try loading this page with nbviewer.org.</b></div><div class=\"sk-container\" hidden><div class=\"sk-item\"><div class=\"sk-estimator sk-toggleable\"><input class=\"sk-toggleable__control sk-hidden--visually\" id=\"sk-estimator-id-1\" type=\"checkbox\" checked><label for=\"sk-estimator-id-1\" class=\"sk-toggleable__label sk-toggleable__label-arrow\">ARIMA</label><div class=\"sk-toggleable__content\"><pre> ARIMA(0,1,0)(0,0,0)[0]          </pre></div></div></div></div></div>"
      ],
      "text/plain": [
       "ARIMA(maxiter=30, method='nm', order=(0, 1, 0), scoring_args={},\n",
       "      suppress_warnings=True, with_intercept=False)"
      ]
     },
     "execution_count": 9,
     "metadata": {},
     "output_type": "execute_result"
    }
   ],
   "source": [
    "tcs_arima.fit(tcs['Close'])\n",
    "nestle_arima.fit(nestle['Close'])\n",
    "ultra_arima.fit(ultra['Close'])"
   ]
  },
  {
   "cell_type": "code",
   "execution_count": 10,
   "id": "39f337a5",
   "metadata": {},
   "outputs": [],
   "source": [
    "pickle.dump(tcs_arima, open('tcs.pkl', 'wb'))\n",
    "pickle.dump(nestle_arima, open('nestle.pkl', 'wb'))\n",
    "pickle.dump(ultra_arima, open('ultra.pkl', 'wb'))"
   ]
  }
 ],
 "metadata": {
  "kernelspec": {
   "display_name": "Python 3 (ipykernel)",
   "language": "python",
   "name": "python3"
  },
  "language_info": {
   "codemirror_mode": {
    "name": "ipython",
    "version": 3
   },
   "file_extension": ".py",
   "mimetype": "text/x-python",
   "name": "python",
   "nbconvert_exporter": "python",
   "pygments_lexer": "ipython3",
   "version": "3.10.6"
  }
 },
 "nbformat": 4,
 "nbformat_minor": 5
}
